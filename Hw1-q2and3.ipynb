{
 "cells": [
  {
   "cell_type": "code",
   "execution_count": null,
   "metadata": {},
   "outputs": [],
   "source": [
    "#Assignment 1 numpy code\n",
    "import numpy as np\n",
    "arr1 = np.array([0,0,0,0,1])\n",
    "arr2 = np.array([1,2,3,4,5])\n",
    "arr3 = np.array([5,2,3,1,4])\n",
    "print(arr2)\n",
    "print('Specific Element:',arr1[3])\n",
    "\n",
    "print('addition:',np.add(arr1,arr2))\n",
    "print('subtract:',np.subtract(arr3,arr2))\n",
    "print('multiply',np.multiply(arr1,arr2))\n",
    "print('divide',np.divide(arr1,arr2))\n",
    "print('square',np.square(arr1,arr2))\n",
    "print('dot product',np.dot(arr1,arr2))\n",
    "#print('cross(?) product',np.cross(arr1,arr2))\n",
    "\n",
    "\n",
    "arr2 = np.array([1,2,3,4,5])\n",
    "\n",
    "\n",
    "print('array 2 details (sum, mean, max):',arr2.sum(), arr2.mean(),arr2.max())\n"
   ]
  },
  {
   "cell_type": "code",
   "execution_count": null,
   "metadata": {},
   "outputs": [],
   "source": [
    "#assignment 2 Pandas\n",
    "#dataset from https://www.kaggle.com/datasets/adityakishor1/2023-june-unemployment-rate\n",
    "import pandas as pd\n",
    "import matplotlib\n",
    "dataDF = pd.read_csv(r'C:\\Users\\ib\\Documents\\GitHub\\kaggle-unemploymentrate\\2023 June Unemployment Rate by County (Percent).csv',skiprows=1)\n",
    "print('DataFrame:',dataDF)\n",
    "print('Series:',dataDF['Region Code'])\n",
    "print('Selection method:',dataDF[dataDF['Region Code'] > 2])\n",
    "print('Select Max:',dataDF['Region Code'].max())\n",
    "dataDF['Region Code'].plot()"
   ]
  }
 ],
 "metadata": {
  "language_info": {
   "name": "python"
  },
  "orig_nbformat": 4
 },
 "nbformat": 4,
 "nbformat_minor": 2
}
