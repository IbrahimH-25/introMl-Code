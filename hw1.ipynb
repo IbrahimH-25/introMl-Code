{
 "cells": [
  {
   "cell_type": "code",
   "execution_count": 3,
   "metadata": {},
   "outputs": [
    {
     "data": {
      "text/plain": [
       "matrix([[0, 1, 0, 0, 0, 1, 0, 1, 0, 0, 1, 0, 1, 0, 1, 1, 1, 1, 1, 1, 1,\n",
       "         1, 0, 1, 1, 0, 0, 1, 1, 0, 1, 1, 0, 1, 1, 0, 0, 0, 0, 0, 1, 1,\n",
       "         0, 1, 1, 0, 1, 1, 0, 0, 0, 0, 0, 0, 1, 1, 0, 1, 0, 1, 1, 1, 0,\n",
       "         0, 0, 1, 1, 0, 0, 0, 0, 1, 0, 1, 0, 0, 1, 1, 1, 1, 0, 1, 0, 1,\n",
       "         1, 1, 1, 0, 1, 1, 1, 0, 0, 1, 1, 1, 0, 1, 0, 0]])"
      ]
     },
     "execution_count": 3,
     "metadata": {},
     "output_type": "execute_result"
    }
   ],
   "source": [
    "import numpy as np\n",
    "from numpy import *\n",
    "from matplotlib import pyplot as plt\n",
    "X = []\n",
    "y = []\n",
    "def loadDataSet():\n",
    "    f=open('Question5.txt')\n",
    "    # Read data line by line and use strip to remove the Spaces\n",
    "    for line in f.readlines():\n",
    "        nline=line.strip().split()\n",
    "        # X has two columns\n",
    "        X.append([float(nline[0]),float(nline[1])])\n",
    "        y.append(int(nline[2]))\n",
    "    return mat(X).T,mat(y)\n",
    "X,y=loadDataSet()\n"
   ]
  },
  {
   "cell_type": "code",
   "execution_count": 4,
   "metadata": {},
   "outputs": [
    {
     "data": {
      "text/plain": [
       "100"
      ]
     },
     "execution_count": 4,
     "metadata": {},
     "output_type": "execute_result"
    }
   ],
   "source": [
    "X.shape[1]"
   ]
  },
  {
   "cell_type": "code",
   "execution_count": null,
   "metadata": {},
   "outputs": [],
   "source": [
    "\n",
    "\n",
    "\n",
    "def sigmoid(x):\n",
    "    return np.divide(1,1+np.exp(-x))\n",
    "\n",
    "\n",
    "def Logistic(X,y,W,b,n,alpha,iterations):\n",
    "    '''\n",
    "    X: input data\n",
    "    y: labels\n",
    "    W: weight\n",
    "    b: bias\n",
    "    n: number of samples\n",
    "    alpha: learning rate\n",
    "    iterations: the number of iteration\n",
    "    '''\n",
    "    J = zeros((iterations,1))\n",
    "    for i in range(iterations):\n",
    "        # step1 forward propagation\n",
    "        #==========\n",
    "        AFunc = sigmoid(np.dot(W.T, X)+ b) \n",
    "        #==========\n",
    "        # compute cost function\n",
    "        #==========\n",
    "        cost = -(1/n)*(np.sum(np.multiply(y*np.log(AFunc)) + np.multiply(1-y,np.log(1-AFunc))))\n",
    "        #==========\n",
    "        # step2 backpropagation\n",
    "        #==========\n",
    "        dw = np.multiply((1/n),np.dot(X, ((AFunc-y).T)))\n",
    "        db = np.multiply((1/n),np.sum(AFunc-y))\n",
    "        #==========\n",
    "        # step3 gradient descent\n",
    "        #==========\n",
    "        #todo '''complete gradientdescent equations'''\n",
    "        #==========\n",
    "    return y_hat,W,b,J\n",
    "\n",
    "def plotBestFit(X,y,J,W,b,n,y_hat):\n",
    "    '''\n",
    "    X: input data\n",
    "    y: labels\n",
    "    J: cost values\n",
    "    W: weight\n",
    "    b: bias\n",
    "    n: number of samples\n",
    "    y_hat: the predict labels from Logistic Regression\n",
    "    '''\n",
    "    # Plot cost function figure\n",
    "    #==========\n",
    "    #todo '''complete the code to plot cost function results'''\n",
    "    #==========\n",
    "    # Plot the final classification figure\n",
    "    #==========\n",
    "    #todo '''complete the code to Logistic Regression Classification Result'''\n",
    "    #==========\n",
    "    plt.show()\n",
    "\n",
    "num = X.shape[0] # number of features\n",
    "n = X.shape[1] # number of samples\n",
    "# Initianlize the weights and bias\n",
    "#==========\n",
    "#todo '''complete the code to initianlize the weights and bias'''\n",
    "#==========\n",
    "W =\n",
    "b =\n",
    "# Learning rate\n",
    "#==========\n",
    "#todo '''try different learning rates''\n",
    "#==========\n",
    "alpha=\n",
    "# Iterations\n",
    "#==========\n",
    "#todo '''try different Iterations''\n",
    "#==========\n",
    "iterations =\n",
    "# Get the results from Logistic function\n",
    "y_hat,W,b,J = Logistic(X, y, W, b, n, alpha, iterations)\n",
    "# Plot figures\n",
    "plotBestFit(X, y, J, W, b, n, y_hat)\n"
   ]
  }
 ],
 "metadata": {
  "kernelspec": {
   "display_name": "Python 3",
   "language": "python",
   "name": "python3"
  },
  "language_info": {
   "codemirror_mode": {
    "name": "ipython",
    "version": 3
   },
   "file_extension": ".py",
   "mimetype": "text/x-python",
   "name": "python",
   "nbconvert_exporter": "python",
   "pygments_lexer": "ipython3",
   "version": "3.11.3"
  },
  "orig_nbformat": 4
 },
 "nbformat": 4,
 "nbformat_minor": 2
}
