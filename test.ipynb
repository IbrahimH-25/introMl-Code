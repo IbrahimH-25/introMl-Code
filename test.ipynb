{
 "cells": [
  {
   "cell_type": "code",
   "execution_count": 8,
   "metadata": {},
   "outputs": [
    {
     "name": "stdout",
     "output_type": "stream",
     "text": [
      "Matrix Mean: 24.2\n",
      "Matrix std: 14.190137420053409\n"
     ]
    },
    {
     "data": {
      "text/plain": [
       "array([[120,   0, 200,   0, 120],\n",
       "       [140,   0,  75,  20, 210],\n",
       "       [140,   0, 150,   0, 270],\n",
       "       [140,   0, 175, 100, 210],\n",
       "       [120,   0,  25, 180,   0]])"
      ]
     },
     "execution_count": 8,
     "metadata": {},
     "output_type": "execute_result"
    }
   ],
   "source": [
    "# importing numpy library\n",
    "import numpy as np  \n",
    "  \n",
    "array = np.random.randint(10, size=(5,5 ))\n",
    "array = array * 5\n",
    "array2 = np.random.randint(10, size=(5 ))\n",
    "crossMultipliedArray  = array * array2#np.cross(array,array2)\n",
    "\n",
    "print('Matrix Mean:',array.mean())\n",
    "print('Matrix std:',array.std())\n",
    "print(crossMultipliedArray)"
   ]
  },
  {
   "cell_type": "code",
   "execution_count": 11,
   "metadata": {},
   "outputs": [
    {
     "name": "stdout",
     "output_type": "stream",
     "text": [
      "[[ -4  20 -16]\n",
      " [ -4   8  -2]\n",
      " [  4  -4   4]]\n"
     ]
    }
   ],
   "source": [
    "# importing numpy library\n",
    "import numpy as np  \n",
    "  \n",
    "array = np.random.randint(10, size=(3,3 ))\n",
    "array2 = np.random.randint(10, size=(3,3 ))\n",
    "MultipliedArray  = array * array2#np.cross(array,array2)\n",
    "crossMultipliedArray  = np.cross(array,array2)\n",
    "\n",
    "\n",
    "print(MultipliedArray)\n",
    "print(crossMultipliedArray)"
   ]
  },
  {
   "cell_type": "code",
   "execution_count": 13,
   "metadata": {},
   "outputs": [
    {
     "name": "stdout",
     "output_type": "stream",
     "text": [
      "0 99\n",
      "4 93\n",
      "1 99\n",
      "32 99\n",
      "23 98\n",
      "0 91\n",
      "1 88\n",
      "0 83\n",
      "5 86\n",
      "0 90\n"
     ]
    }
   ],
   "source": [
    "# importing numpy library\n",
    "import numpy as np  \n",
    "  \n",
    "matrix = np.random.randint(100, size=(10,10))\n",
    "for array in matrix:\n",
    "    print(array.min(),array.max())"
   ]
  },
  {
   "cell_type": "code",
   "execution_count": 3,
   "metadata": {},
   "outputs": [
    {
     "name": "stdout",
     "output_type": "stream",
     "text": [
      "Apple total: 1600\n",
      "Apple avg: 0    125.0\n",
      "4    275.0\n",
      "dtype: float64\n",
      "Banana total: 790\n",
      "Banana avg: 1     60.0\n",
      "5    137.5\n",
      "dtype: float64\n",
      "Orange total: 1440\n",
      "Orange avg: 2    112.5\n",
      "6    247.5\n",
      "dtype: float64\n",
      "Grape total: 3235\n",
      "Grape avg: 3    240.00\n",
      "7    568.75\n",
      "dtype: float64\n"
     ]
    }
   ],
   "source": [
    "import pandas as pd\n",
    "import numpy as np\n",
    "data = {\n",
    "\n",
    "    'Store': ['A', 'B', 'A', 'B', 'A', 'B', 'A', 'B'],\n",
    "\n",
    "    'Item': ['Apple', 'Banana', 'Orange', 'Grape', 'Apple', 'Banana', 'Orange', 'Grape'],\n",
    "\n",
    "    'Price': [50, 20, 30, 60, 55, 22, 33, 65],\n",
    "\n",
    "    'Quantity': [10, 12, 15, 16, 20, 25, 30, 35]\n",
    "\n",
    "}\n",
    "data = pd.DataFrame(data)\n",
    "unique = data['Item'].unique()\n",
    "for u in unique:\n",
    "    filterDF = data[data['Item'] == u]\n",
    "    total = np.sum(np.multiply(filterDF['Price'],filterDF['Quantity']))\n",
    "    avg = np.divide(np.multiply(filterDF['Price'],filterDF['Quantity']),filterDF.shape[1])\n",
    "    print(u, 'total:',total)\n",
    "    print(u, 'avg:',avg)"
   ]
  },
  {
   "cell_type": "code",
   "execution_count": 14,
   "metadata": {},
   "outputs": [
    {
     "name": "stdout",
     "output_type": "stream",
     "text": [
      "9650 225.0\n"
     ]
    }
   ],
   "source": [
    "#Given the following DataFrame and code snippet, predict the output of the code.\n",
    "\n",
    "\n",
    "\n",
    "import pandas as pd\n",
    "\n",
    "\n",
    "\n",
    "data = {\n",
    "\n",
    "    'Product': ['A', 'B', 'C', 'A', 'B', 'C'],\n",
    "\n",
    "    'Price': [100, 200, 300, 150, 250, 350],\n",
    "\n",
    "    'Quantity': [10, 5, 7, 12, 8, 5]\n",
    "\n",
    "}\n",
    "\n",
    "\n",
    "\n",
    "df = pd.DataFrame(data)\n",
    "\n",
    "\n",
    "\n",
    "total_revenue = (df['Price'] * df['Quantity']).sum()\n",
    "\n",
    "average_price = df['Price'].mean()\n",
    "\n",
    "print(total_revenue, average_price)"
   ]
  },
  {
   "cell_type": "code",
   "execution_count": 23,
   "metadata": {},
   "outputs": [
    {
     "data": {
      "text/plain": [
       "array([[0, 0, 0, 0, 0],\n",
       "       [0, 0, 0, 0, 0],\n",
       "       [0, 0, 0, 0, 0],\n",
       "       [0, 0, 0, 0, 0],\n",
       "       [1, 0, 0, 0, 0]])"
      ]
     },
     "execution_count": 23,
     "metadata": {},
     "output_type": "execute_result"
    }
   ],
   "source": [
    "import numpy as np\n",
    "array = np.random.randint(100, size=(20))\n",
    "odds = 0\n",
    "evens = 0\n",
    "for i in array:\n",
    "    if i % 2 == 0:\n",
    "        evens += 1\n",
    "    elif i%2 == 1:\n",
    "        odds += 1"
   ]
  },
  {
   "cell_type": "code",
   "execution_count": 42,
   "metadata": {},
   "outputs": [
    {
     "name": "stdout",
     "output_type": "stream",
     "text": [
      "[1 2 3 4 5]\n",
      "Specific Element: 0\n",
      "addition: [1 2 3 4 6]\n",
      "subtract: [ 4  0  0 -3 -1]\n",
      "multiply [0 0 0 0 5]\n",
      "divide [0.  0.  0.  0.  0.2]\n",
      "square [0 0 0 0 1]\n",
      "dot product 1\n",
      "array 2 details (sum, mean, max): 15 3.0 5\n"
     ]
    }
   ],
   "source": [
    "#Assignment 1 numpy code\n",
    "import numpy as np\n",
    "arr1 = np.array([0,0,0,0,1])\n",
    "arr2 = np.array([1,2,3,4,5])\n",
    "arr3 = np.array([5,2,3,1,4])\n",
    "print(arr2)\n",
    "print('Specific Element:',arr1[3])\n",
    "\n",
    "print('addition:',np.add(arr1,arr2))\n",
    "print('subtract:',np.subtract(arr3,arr2))\n",
    "print('multiply',np.multiply(arr1,arr2))\n",
    "print('divide',np.divide(arr1,arr2))\n",
    "print('square',np.square(arr1,arr2))\n",
    "print('dot product',np.dot(arr1,arr2))\n",
    "#print('cross(?) product',np.cross(arr1,arr2))\n",
    "\n",
    "\n",
    "arr2 = np.array([1,2,3,4,5])\n",
    "\n",
    "\n",
    "print('array 2 details (sum, mean, max):',arr2.sum(), arr2.mean(),arr2.max())\n"
   ]
  },
  {
   "cell_type": "code",
   "execution_count": 3,
   "metadata": {},
   "outputs": [
    {
     "name": "stdout",
     "output_type": "stream",
     "text": [
      "DataFrame:        Series ID            Region Name  Region Code  01-06-2023\n",
      "0     ALAUTA1URN     Autauga County, AL         1001         2.3\n",
      "1     ALBALD0URN     Baldwin County, AL         1003         2.3\n",
      "2     ALBARB5URN     Barbour County, AL         1005         5.0\n",
      "3     ALBIBB7URN        Bibb County, AL         1007         2.9\n",
      "4     ALBLOU9URN      Blount County, AL         1009         2.3\n",
      "...          ...                    ...          ...         ...\n",
      "3139  WYSWEE7URN  Sweetwater County, WY        56037         3.6\n",
      "3140  WYTETO9URN       Teton County, WY        56039         1.7\n",
      "3141  WYUINT1URN       Uinta County, WY        56041         3.4\n",
      "3142  WYWASH3URN    Washakie County, WY        56043         3.4\n",
      "3143  WYWEST5URN      Weston County, WY        56045         2.2\n",
      "\n",
      "[3144 rows x 4 columns]\n",
      "Series: 0        1001\n",
      "1        1003\n",
      "2        1005\n",
      "3        1007\n",
      "4        1009\n",
      "        ...  \n",
      "3139    56037\n",
      "3140    56039\n",
      "3141    56041\n",
      "3142    56043\n",
      "3143    56045\n",
      "Name: Region Code, Length: 3144, dtype: int64\n",
      "Selection method:        Series ID            Region Name  Region Code  01-06-2023\n",
      "0     ALAUTA1URN     Autauga County, AL         1001         2.3\n",
      "1     ALBALD0URN     Baldwin County, AL         1003         2.3\n",
      "2     ALBARB5URN     Barbour County, AL         1005         5.0\n",
      "3     ALBIBB7URN        Bibb County, AL         1007         2.9\n",
      "4     ALBLOU9URN      Blount County, AL         1009         2.3\n",
      "...          ...                    ...          ...         ...\n",
      "3139  WYSWEE7URN  Sweetwater County, WY        56037         3.6\n",
      "3140  WYTETO9URN       Teton County, WY        56039         1.7\n",
      "3141  WYUINT1URN       Uinta County, WY        56041         3.4\n",
      "3142  WYWASH3URN    Washakie County, WY        56043         3.4\n",
      "3143  WYWEST5URN      Weston County, WY        56045         2.2\n",
      "\n",
      "[3144 rows x 4 columns]\n",
      "Select Max: 56045\n"
     ]
    },
    {
     "data": {
      "text/plain": [
       "<Axes: >"
      ]
     },
     "execution_count": 3,
     "metadata": {},
     "output_type": "execute_result"
    },
    {
     "data": {
      "image/png": "[encoded data removed]",
      "text/plain": [
       "<Figure size 640x480 with 1 Axes>"
      ]
     },
     "metadata": {},
     "output_type": "display_data"
    }
   ],
   "source": [
    "#assignment 2 Pandas\n",
    "#dataset from https://www.kaggle.com/datasets/adityakishor1/2023-june-unemployment-rate\n",
    "import pandas as pd\n",
    "import matplotlib\n",
    "dataDF = pd.read_csv(r'C:\\Users\\ib\\Documents\\GitHub\\kaggle-unemploymentrate\\2023 June Unemployment Rate by County (Percent).csv',skiprows=1)\n",
    "print('DataFrame:',dataDF)\n",
    "print('Series:',dataDF['Region Code'])\n",
    "print('Selection method:',dataDF[dataDF['Region Code'] > 2])\n",
    "print('Select Max:',dataDF['Region Code'].max())\n",
    "dataDF['Region Code'].plot()"
   ]
  },
  {
   "cell_type": "code",
   "execution_count": null,
   "metadata": {},
   "outputs": [],
   "source": []
  }
 ],
 "metadata": {
  "kernelspec": {
   "display_name": "Python 3",
   "language": "python",
   "name": "python3"
  },
  "language_info": {
   "codemirror_mode": {
    "name": "ipython",
    "version": 3
   },
   "file_extension": ".py",
   "mimetype": "text/x-python",
   "name": "python",
   "nbconvert_exporter": "python",
   "pygments_lexer": "ipython3",
   "version": "3.11.3"
  },
  "orig_nbformat": 4
 },
 "nbformat": 4,
 "nbformat_minor": 2
}
